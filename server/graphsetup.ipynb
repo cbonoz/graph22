{
 "cells": [
  {
   "cell_type": "code",
   "execution_count": 9,
   "id": "9264502d-32d7-4f79-85fd-e62b81df2ebf",
   "metadata": {},
   "outputs": [],
   "source": [
    "from dbutil import conn\n",
    "import pyTigerGraph as tg\n",
    "import json"
   ]
  },
  {
   "cell_type": "code",
   "execution_count": 4,
   "id": "a76d4600-371e-4ee0-abfa-c18377e13f2c",
   "metadata": {},
   "outputs": [
    {
     "name": "stdout",
     "output_type": "stream",
     "text": [
      "---- Global vertices, edges, and all graphs\n",
      "Vertex Types:\n",
      "- VERTEX property(PRIMARY_ID mls_id STRING, address STRING, city STRING, state STRING, zip STRING) WITH STATS=\"OUTDEGREE_BY_EDGETYPE\"\n",
      "Edge Types:\n",
      "- UNDIRECTED EDGE comparable(FROM property, TO property, reason STRING, created_at DATETIME)\n",
      "\n",
      "Graphs:\n",
      "- Graph propgraph(property:v, comparable:e)\n",
      "Jobs:\n",
      "\n",
      "\n",
      "JSON API version: v2\n",
      "Syntax version: v2\n",
      "\n"
     ]
    }
   ],
   "source": [
    "print(conn.gsql('ls', options=[]))"
   ]
  },
  {
   "cell_type": "code",
   "execution_count": 6,
   "id": "468ade47-a25f-493e-9255-7eddd8ea63f2",
   "metadata": {},
   "outputs": [
    {
     "name": "stdout",
     "output_type": "stream",
     "text": [
      "Successfully dropped edge types: [comparable].\n",
      "Successfully dropped vertex types: [property].\n",
      "The graph propgraph could not be dropped!\n"
     ]
    }
   ],
   "source": [
    "if True:\n",
    "#     print(conn.gsql('''\n",
    "#         drop edge comparable\n",
    "#         drop edge has_trait\n",
    "#         drop vertex property\n",
    "#         drop vertex trait\n",
    "#         drop graph propgraph\n",
    "#         '''))\n",
    "    \n",
    "    print(conn.gsql('''\n",
    "        drop edge comparable\n",
    "        drop vertex property\n",
    "        drop graph propgraph\n",
    "        '''))"
   ]
  },
  {
   "cell_type": "code",
   "execution_count": 7,
   "id": "88c989b8-68bd-4845-ac10-48642f36eb73",
   "metadata": {},
   "outputs": [
    {
     "name": "stdout",
     "output_type": "stream",
     "text": [
      "Successfully created vertex types: [property].\n",
      "Successfully created edge types: [comparable].\n",
      "Successfully created vertex types: [trait].\n",
      "Successfully created edge types: [has_trait].\n",
      "The graph propgraph is created.\n"
     ]
    }
   ],
   "source": [
    "# Type, address, city, state, zip, price, beds, baths, location, square feet, lot size, year built, days on market, $/square feet, hoa/month, latitude, longitude\n",
    "print(conn.gsql('''\n",
    "create vertex property (primary_id mls_id string, address string, city string, state string, zip string, price float, lat double, lng double, beds float, baths float, sqft float, url string, type string)\n",
    "                      \n",
    "create undirected edge comparable(from property, to property, reason string, created_at datetime)\n",
    "\n",
    "create vertex trait(primary_id name string)\n",
    "\n",
    "create undirected edge has_trait(from property, to trait)\n",
    "\n",
    "create graph propgraph(property, comparable, trait, has_trait)\n",
    "''', options=[]))"
   ]
  },
  {
   "cell_type": "code",
   "execution_count": 8,
   "id": "b6807670-bdb2-4693-a808-4884602a31c0",
   "metadata": {},
   "outputs": [
    {
     "name": "stdout",
     "output_type": "stream",
     "text": [
      "---- Global vertices, edges, and all graphs\n",
      "Vertex Types:\n",
      "- VERTEX property(PRIMARY_ID mls_id STRING, address STRING, city STRING, state STRING, zip STRING, price FLOAT, lat DOUBLE, lng DOUBLE, beds FLOAT, baths FLOAT, sqft FLOAT, url STRING, type STRING) WITH STATS=\"OUTDEGREE_BY_EDGETYPE\"\n",
      "- VERTEX trait(PRIMARY_ID name STRING) WITH STATS=\"OUTDEGREE_BY_EDGETYPE\"\n",
      "Edge Types:\n",
      "- UNDIRECTED EDGE comparable(FROM property, TO property, reason STRING, created_at DATETIME)\n",
      "- UNDIRECTED EDGE has_trait(FROM property, TO trait)\n",
      "\n",
      "Graphs:\n",
      "- Graph propgraph(property:v, trait:v, comparable:e, has_trait:e)\n",
      "Jobs:\n",
      "\n",
      "\n",
      "JSON API version: v2\n",
      "Syntax version: v2\n",
      "\n"
     ]
    }
   ],
   "source": [
    "print(conn.gsql('ls', options=[]))"
   ]
  },
  {
   "cell_type": "code",
   "execution_count": 2,
   "id": "fec6d152-dcb7-42cc-bf50-f69b3276a0c7",
   "metadata": {},
   "outputs": [
    {
     "data": {
      "text/plain": [
       "'[\\n{\\n\"v_id\": \"72872374\",\\n\"attributes\": {\\n\"zip\": \"02118\",\\n\"baths\": 3,\\n\"address\": \"3 Claremont St\",\\n\"lng\": -71.08143,\\n\"city\": \"Boston\",\\n\"price\": 2375000,\\n\"sqft\": 2473,\\n\"state\": \"MA\",\\n\"beds\": 4,\\n\"type\": \"Single Family Residential\",\\n\"lat\": 42.3427,\\n\"url\": \"https://www.redfin.com/MA/Boston/3-Claremont-St-02118/home/9283472\"\\n},\\n\"v_type\": \"property\"\\n},\\n{\\n\"v_id\": \"72917596\",\\n\"attributes\": {\\n\"zip\": \"02127\",\\n\"baths\": 2,\\n\"address\": \"420 W Broadway #306\",\\n\"lng\": -71.04722,\\n\"city\": \"Boston\",\\n\"price\": 954500,\\n\"sqft\": 968,\\n\"state\": \"MA\",\\n\"beds\": 2,\\n\"type\": \"Condo/Co-op\",\\n\"lat\": 42.33674,\\n\"url\": \"https://www.redfin.com/MA/Boston/420-W-Broadway-02127/unit-306/home/175036534\"\\n},\\n\"v_type\": \"property\"\\n},\\n{\\n\"v_id\": \"72867643\",\\n\"attributes\": {\\n\"zip\": \"02128\",\\n\"baths\": 10.5,\\n\"address\": \"142 Gove St\",\\n\"lng\": -71.03383,\\n\"city\": \"Boston\",\\n\"price\": 3525000,\\n\"sqft\": 7308,\\n\"state\": \"MA\",\\n\"beds\": 15,\\n\"type\": \"Multi-Family (5+ Unit)\",\\n\"lat\": 42.36995,\\n\"url\": \"https://www.redfin.com/MA/Boston/142-Gove-St-02128/home/9115446\"\\n},\\n\"v_type\": \"property\"\\n},\\n{\\n\"v_id\": \"72918847\",\\n\"attributes\": {\\n\"zip\": \"02122\",\\n\"baths\": 2,\\n\"address\": \"644 Adams St #2\",\\n\"lng\": -71.05481,\\n\"city\": \"Boston\",\\n\"price\": 724000,\\n\"sqft\": 1145,\\n\"state\": \"MA\",\\n\"beds\": 2,\\n\"type\": \"Condo/Co-op\",\\n\"lat\": 42.28794,\\n\"url\": \"https://www.redfin.com/MA/Boston/644-Adams-St-02122/unit-2/home/177159562\"\\n},\\n\"v_type\": \"property\"\\n},\\n{\\n\"v_id\": \"72879835\",\\n\"attributes\": {\\n\"zip\": \"02122\",\\n\"baths\": 1,\\n\"address\": \"20 Dix St #41\",\\n\"lng\": -71.06075,\\n\"city\": \"Boston\",\\n\"price\": 325000,\\n\"sqft\": 709,\\n\"state\": \"MA\",\\n\"beds\": 2,\\n\"type\": \"Condo/Co-op\",\\n\"lat\": 42.29545,\\n\"url\": \"https://www.redfin.com/MA/Dorchester/20-Dix-St-02122/unit-41/home/9064016\"\\n},\\n\"v_type\": \"property\"\\n},\\n{\\n\"v_id\": \"72916762\",\\n\"attributes\": {\\n\"zip\": \"02130\",\\n\"baths\": 2,\\n\"address\": \"241 Perkins St Unit E204\",\\n\"lng\": -71.12352,\\n\"city\": \"Boston\",\\n\"price\": 719000,\\n\"sqft\": 1267,\\n\"state\": \"MA\",\\n\"beds\": 2,\\n\"type\": \"Townhouse\",\\n\"lat\": 42.32084,\\n\"url\": \"https://www.redfin.com/MA/Boston/241-Perkins-St-02130/unit-E204/home/9139770\"\\n},\\n\"v_type\": \"property\"\\n},\\n{\\n\"v_id\": \"72918838\",\\n\"attributes\": {\\n\"zip\": \"02132\",\\n\"baths\": 2,\\n\"address\": \"9 Cutter Rd\",\\n\"lng\": -71.16715,\\n\"city\": \"Boston\",\\n\"price\": 625000,\\n\"sqft\": 1520,\\n\"state\": \"MA\",\\n\"beds\": 3,\\n\"type\": \"Single Family Residential\",\\n\"lat\": 42.28072,\\n\"url\": \"https://www.redfin.com/MA/West-Roxbury/9-Cutter-Rd-02132/home/9215599\"\\n},\\n\"v_type\": \"property\"\\n},\\n{\\n\"v_id\": \"72930476\",\\n\"attributes\": {\\n\"zip\": \"02126\",\\n\"baths\": 1.5,\\n\"address\": \"25 Messinger St\",\\n\"lng\": -71.09855,\\n\"city\": \"Boston\",\\n\"price\": 500000,\\n\"sqft\": 2121,\\n\"state\": \"MA\",\\n\"beds\": 3,\\n\"type\": \"Single Family Residential\",\\n\"lat\": 42.27307,\\n\"url\": \"https://www.redfin.com/MA/Mattapan/25-Messinger-St-02126/home/9157839\"\\n},\\n\"v_type\": \"property\"\\n},\\n{\\n\"v_id\": \"72933409\",\\n\"attributes\": {\\n\"zip\": \"02130\",\\n\"baths\": 1,\\n\"address\": \"291 Forest Hills St #3\",\\n\"lng\": -71.10472,\\n\"city\": \"Boston\",\\n\"price\": 650000,\\n\"sqft\": 1065,\\n\"state\": \"MA\",\\n\"beds\": 2,\\n\"type\": \"Condo/Co-op\",\\n\"lat\": 42.30265,\\n\"url\": \"https://www.redfin.com/MA/Boston/291-Forest-Hills-St-02130/unit-3/home/167044512\"\\n},\\n\"v_type\": \"property\"\\n},\\n{\\n\"v_id\": \"72935333\",\\n\"attributes\": {\\n\"zip\": \"02131\",\\n\"baths\": 1,\\n\"address\": \"93 Knoll St #93\",\\n\"lng\": -71.13579,\\n\"city\": \"Boston\",\\n\"price\": 590000,\\n\"sqft\": 1068,\\n\"state\": \"MA\",\\n\"beds\": 2,\\n\"type\": \"Condo/Co-op\",\\n\"lat\": 42.29347,\\n\"url\": \"https://www.redfin.com/MA/Roslindale/93-Knoll-St-02131/unit-93/home/113231644\"\\n},\\n\"v_type\": \"property\"\\n}\\n]'"
      ]
     },
     "execution_count": 2,
     "metadata": {},
     "output_type": "execute_result"
    }
   ],
   "source": [
    "sample_properties = conn.gsql('select * from property limit 10')\n",
    "sample_properties"
   ]
  },
  {
   "cell_type": "code",
   "execution_count": 6,
   "id": "8b5fca75-0238-43c6-a339-3e7c134652d8",
   "metadata": {},
   "outputs": [
    {
     "name": "stdout",
     "output_type": "stream",
     "text": [
      "Semantic Check Fails: These queries could not be found anywhere: [comp_search].\n",
      "Successfully created queries: [comp_search].\n",
      "Start installing queries, about 1 minute ...\n",
      "comp_search query: curl -X GET 'https://127.0.0.1:9000/query/propgraph/comp_search?p=VALUE'. Add -H \"Authorization: Bearer TOKEN\" if authentication is enabled.\n",
      "Select 'm1' as compile server, now connecting ...\n",
      "Node 'm1' is prepared as compile server.\n",
      "\n",
      "Query installation finished.\n"
     ]
    }
   ],
   "source": [
    "\"\"\"\n",
    "Usually comparables just go one layer deep i.e. A -> B.\n",
    "\n",
    "With a PropGraph we can now go arbitrarily deep to find comparables in other counties, states, and even countries!\n",
    "\n",
    "This query finds all such connected properties\n",
    "\"\"\"\n",
    "\n",
    "print(conn.gsql('''\n",
    "drop query comp_search\n",
    "\n",
    "create query comp_search(vertex<property> p) for graph propgraph{\n",
    "    \n",
    "    start = {p};\n",
    "    tgt = select t from start:s-(comparable:e)-property:t ;\n",
    "    print tgt;\n",
    "}\n",
    "\n",
    "install query comp_search\n",
    "'''))\n",
    "\n"
   ]
  },
  {
   "cell_type": "code",
   "execution_count": 7,
   "id": "736658cf-ad3a-439e-ac12-e3c0e9f845d9",
   "metadata": {},
   "outputs": [
    {
     "data": {
      "text/plain": [
       "'{\\n\"error\": false,\\n\"message\": \"\",\\n\"version\": {\\n\"schema\": 1,\\n\"edition\": \"enterprise\",\\n\"api\": \"v2\"\\n},\\n\"results\": [{\"tgt\": [{\\n\"v_id\": \"72934629\",\\n\"attributes\": {\\n\"zip\": \"02120\",\\n\"baths\": 3,\\n\"address\": \"34 Delle Ave\",\\n\"lng\": -71.09891,\\n\"city\": \"Boston\",\\n\"price\": 1675000,\\n\"sqft\": 2726,\\n\"state\": \"MA\",\\n\"beds\": 9,\\n\"type\": \"Multi-Family (2-4 Unit)\",\\n\"lat\": 42.33105,\\n\"url\": \"https://www.redfin.com/MA/Boston/34-Delle-Ave-02120/home/9297667\"\\n},\\n\"v_type\": \"property\"\\n}]}]\\n}'"
      ]
     },
     "execution_count": 7,
     "metadata": {},
     "output_type": "execute_result"
    }
   ],
   "source": [
    "TARGET_PROP_ID = '72883770' # Replace with your desired property id.\n",
    "\n",
    "q = conn.gsql('run query comp_search({})'.format(TARGET_PROP_ID))\n",
    "q\n"
   ]
  },
  {
   "cell_type": "code",
   "execution_count": 21,
   "id": "832befec-b587-47d7-9b87-8e41c84333b3",
   "metadata": {},
   "outputs": [
    {
     "name": "stdout",
     "output_type": "stream",
     "text": [
      "comparables\n",
      "---\n",
      "72934629 : 34 Delle Ave MA 02120 $1675000\n"
     ]
    }
   ],
   "source": [
    "result = json.loads(q)\n",
    "if result['error']:\n",
    "    print('error', result['error'])\n",
    "else:\n",
    "    print('comparables\\n---')\n",
    "    for r in result['results']:\n",
    "        for tgt in r['tgt']:\n",
    "            p = tgt['attributes']\n",
    "            print(tgt['v_id'],':', p['address'], p['state'], p['zip'], '$' + str(p['price']))"
   ]
  },
  {
   "cell_type": "code",
   "execution_count": null,
   "id": "9048a7c9-7f22-4602-973c-ffd36d6ea0b7",
   "metadata": {},
   "outputs": [],
   "source": []
  }
 ],
 "metadata": {
  "kernelspec": {
   "display_name": "Python 3",
   "language": "python",
   "name": "python3"
  },
  "language_info": {
   "codemirror_mode": {
    "name": "ipython",
    "version": 3
   },
   "file_extension": ".py",
   "mimetype": "text/x-python",
   "name": "python",
   "nbconvert_exporter": "python",
   "pygments_lexer": "ipython3",
   "version": "3.7.12"
  }
 },
 "nbformat": 4,
 "nbformat_minor": 5
}
