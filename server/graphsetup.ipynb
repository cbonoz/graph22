{
 "cells": [
  {
   "cell_type": "code",
   "execution_count": 7,
   "id": "9264502d-32d7-4f79-85fd-e62b81df2ebf",
   "metadata": {},
   "outputs": [],
   "source": [
    "from dbutil import conn\n",
    "import pyTigerGraph as tg "
   ]
  },
  {
   "cell_type": "code",
   "execution_count": 8,
   "id": "a76d4600-371e-4ee0-abfa-c18377e13f2c",
   "metadata": {},
   "outputs": [
    {
     "name": "stdout",
     "output_type": "stream",
     "text": [
      "---- Global vertices, edges, and all graphs\n",
      "Vertex Types:\n",
      "Edge Types:\n",
      "\n",
      "Graphs:\n",
      "Jobs:\n",
      "\n",
      "\n",
      "JSON API version: v2\n",
      "Syntax version: v2\n",
      "\n"
     ]
    }
   ],
   "source": [
    "print(conn.gsql('ls', options=[]))"
   ]
  },
  {
   "cell_type": "code",
   "execution_count": 10,
   "id": "468ade47-a25f-493e-9255-7eddd8ea63f2",
   "metadata": {},
   "outputs": [
    {
     "ename": "AttributeError",
     "evalue": "module 'pyTigerGraph' has no attribute 'Gsql'",
     "output_type": "error",
     "traceback": [
      "\u001b[0;31m---------------------------------------------------------------------------\u001b[0m",
      "\u001b[0;31mAttributeError\u001b[0m                            Traceback (most recent call last)",
      "\u001b[0;32m<ipython-input-10-9ee646ccaa2b>\u001b[0m in \u001b[0;36m<module>\u001b[0;34m\u001b[0m\n\u001b[0;32m----> 1\u001b[0;31m \u001b[0mshell\u001b[0m \u001b[0;34m=\u001b[0m \u001b[0mtg\u001b[0m\u001b[0;34m.\u001b[0m\u001b[0mGsql\u001b[0m\u001b[0;34m(\u001b[0m\u001b[0mconn\u001b[0m\u001b[0;34m)\u001b[0m\u001b[0;34m\u001b[0m\u001b[0;34m\u001b[0m\u001b[0m\n\u001b[0m",
      "\u001b[0;31mAttributeError\u001b[0m: module 'pyTigerGraph' has no attribute 'Gsql'"
     ]
    }
   ],
   "source": []
  },
  {
   "cell_type": "code",
   "execution_count": 14,
   "id": "88c989b8-68bd-4845-ac10-48642f36eb73",
   "metadata": {},
   "outputs": [
    {
     "name": "stdout",
     "output_type": "stream",
     "text": [
      "Semantic Check Fails: The vertex name property is used by another object! Please use a different name.\n",
      "Failed to create vertex types: [property].\n"
     ]
    }
   ],
   "source": [
    "# Type, address, city, state, zip, price, beds, baths, location, square feet, lot size, year built, days on market, $/square feet, hoa/month, latitude, longitude\n",
    "print(conn.gsql('''\n",
    "create vertex property (primary_id mls_id string, address string, city string, state string, zip string, price float, lat double, lng double, beds float, baths float, sqft float, url string, type string)\n",
    "                      \n",
    "create undirected edge comparable(from property, to property, reason string, created_at datetime)\n",
    "\n",
    "create vertex trait(primary_id name string)\n",
    "\n",
    "create undirected edge has_trait(from property, to trait)\n",
    "\n",
    "create graph propgraph(property, comparable, trait, has_trait)\n",
    "''', options=[]))"
   ]
  },
  {
   "cell_type": "code",
   "execution_count": 13,
   "id": "b6807670-bdb2-4693-a808-4884602a31c0",
   "metadata": {},
   "outputs": [
    {
     "name": "stdout",
     "output_type": "stream",
     "text": [
      "---- Global vertices, edges, and all graphs\n",
      "Vertex Types:\n",
      "- VERTEX property(PRIMARY_ID mls_id STRING, address STRING, city STRING, state STRING, zip STRING) WITH STATS=\"OUTDEGREE_BY_EDGETYPE\"\n",
      "Edge Types:\n",
      "- UNDIRECTED EDGE comparable(FROM property, TO property, reason STRING, created_at DATETIME)\n",
      "\n",
      "Graphs:\n",
      "- Graph propgraph(property:v, comparable:e)\n",
      "Jobs:\n",
      "\n",
      "\n",
      "JSON API version: v2\n",
      "Syntax version: v2\n",
      "\n"
     ]
    }
   ],
   "source": [
    "print(conn.gsql('ls', options=[]))"
   ]
  },
  {
   "cell_type": "code",
   "execution_count": null,
   "id": "fec6d152-dcb7-42cc-bf50-f69b3276a0c7",
   "metadata": {},
   "outputs": [],
   "source": []
  }
 ],
 "metadata": {
  "kernelspec": {
   "display_name": "Python 3",
   "language": "python",
   "name": "python3"
  },
  "language_info": {
   "codemirror_mode": {
    "name": "ipython",
    "version": 3
   },
   "file_extension": ".py",
   "mimetype": "text/x-python",
   "name": "python",
   "nbconvert_exporter": "python",
   "pygments_lexer": "ipython3",
   "version": "3.7.12"
  }
 },
 "nbformat": 4,
 "nbformat_minor": 5
}
